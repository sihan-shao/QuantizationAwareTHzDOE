{
 "cells": [
  {
   "cell_type": "code",
   "execution_count": 1,
   "metadata": {},
   "outputs": [],
   "source": [
    "import numpy as np\n",
    "import torch\n",
    "import matplotlib.pyplot as plt\n",
    "from colorsys import hls_to_rgb\n",
    "from numpy import pi"
   ]
  },
  {
   "cell_type": "code",
   "execution_count": 2,
   "metadata": {},
   "outputs": [],
   "source": [
    "# CC nadapez: from https://stackoverflow.com/a/20958684\n",
    "def colorize(z):\n",
    "    r = np.abs(z)\n",
    "    arg = np.angle(z) \n",
    "\n",
    "    h = (arg + pi)  / (2 * pi) + 0.5\n",
    "    l = 1.0 - 1.0/(1.0 + r**0.3)\n",
    "    s = 0.8\n",
    "\n",
    "    c = np.vectorize(hls_to_rgb) (h,l,s) # --> tuple\n",
    "    c = np.array(c)  # -->  array of (3,n,m) shape, but need (n,m,3)\n",
    "    c = c.swapaxes(0,2) \n",
    "    return c"
   ]
  },
  {
   "cell_type": "code",
   "execution_count": 3,
   "metadata": {},
   "outputs": [],
   "source": [
    "device = torch.device(\"cuda:0\" if torch.cuda.is_available() else \"cpu\")"
   ]
  },
  {
   "cell_type": "code",
   "execution_count": 4,
   "metadata": {},
   "outputs": [],
   "source": [
    "def zero_pad(arr, device=device):\n",
    "    '''\n",
    "    Pad arr with zeros to double the size. First dim is assumed to be batch dim which\n",
    "    won't be changed\n",
    "    '''\n",
    "    out_arr = torch.zeros(arr.shape[0], arr.shape[1] * 2, arr.shape[2] * 2, device=device, dtype=arr.dtype)\n",
    "    \n",
    "    as1 = (arr.shape[1] + 1) // 2\n",
    "    as2 = (arr.shape[2] + 1) // 2\n",
    "    out_arr[:, as1:as1 + arr.shape[1], as2:as2 + arr.shape[2]] = arr\n",
    "    return out_arr\n",
    "\n",
    "def zero_unpad(arr, original_shape):\n",
    "    '''\n",
    "    Strip off padding of arr with zeros to halve the size. First dim is assumed to be batch dim which\n",
    "    won't be changed\n",
    "    '''\n",
    "    as1 = (original_shape[1] + 1) // 2\n",
    "    as2 = (original_shape[2] + 1) // 2\n",
    "    return arr[:, as1:as1 + original_shape[1], as2:as2 + original_shape[2]]"
   ]
  },
  {
   "cell_type": "code",
   "execution_count": null,
   "metadata": {},
   "outputs": [],
   "source": []
  },
  {
   "cell_type": "code",
   "execution_count": 5,
   "metadata": {},
   "outputs": [],
   "source": [
    "def band_limited_angular_spectrum(psi, z, lbd, L, device=device, skip_final_phase=True):\n",
    "    '''\n",
    "    Returns the complex electrical field psi propagated with the Scalable Angular Spectrum Method.\n",
    "    \n",
    "        Parameters:\n",
    "            psi (torch.tensor): the quadratically shaped input field, with leading batch dimension\n",
    "            z (number): propagation distance\n",
    "            lbd (number): wavelength\n",
    "            L (number): physical sidelength of the input field\n",
    "            skip_final_phase=True: Skip final multiplication of phase factor. For M>2 undersampled,\n",
    "            \n",
    "        Returns:\n",
    "            psi_final (torch.tensor): Propagated field\n",
    "            Q (number): Output field size, corresponds to magnificiation * L\n",
    "    \n",
    "    '''\n",
    "    N = psi.shape[-1]\n",
    "    \n",
    "    # don't change this pad_factor, only 2 is supported\n",
    "    pad_factor = 2\n",
    "    L_new = pad_factor * L\n",
    "    N_new = pad_factor * N\n",
    "    # pad array\n",
    "    psi_p = zero_pad(psi)\n",
    "    \n",
    "    # helper varaibles\n",
    "    k = 2 * torch.pi / lbd     # wavenumber \n",
    "    df = 1 / L_new             # frequency spacing\n",
    "    Lf = N_new * df            # total size in frequency space\n",
    "    \n",
    "    # freq space coordinates for padded array\n",
    "    f_y = torch.fft.fftfreq(N_new, 1 / Lf).reshape(1,1, N_new).to(device).type(torch.float32)\n",
    "    f_x = f_y.reshape(1, N_new, 1) \n",
    "    \n",
    "    \n",
    "    # real space coordinates for padded array\n",
    "    y = torch.fft.ifftshift(torch.tensor(np.linspace(-L_new/2, L_new/2, N_new, endpoint=False),\n",
    "                               device=device).reshape(1, 1, N_new), dim=(-1))\n",
    "    x = y.reshape(1, N_new, 1)\n",
    "    \n",
    "    # bandlimit helper\n",
    "    cx = lbd * f_x \n",
    "    cy = lbd * f_y \n",
    "    tx = L_new / 2 / z\n",
    "    ty = L_new / 2 / z\n",
    "   \n",
    "    # bandlimit filter for precompensation, not smoothened!\n",
    "    W = (cx**2 / (1 - cx**2 - cy**2) * (2*z / tx)**2  <= 1) * (cy**2 / (1 - cx**2 - cy**2) * (2*z / ty)**2  <= 1)\n",
    " \n",
    "    delta_uv = 1 / (2*torch.tensor(psi_p.shape[1:])*L_new/N_new)\n",
    "    uv_limit = 1 / lbd / torch.sqrt(1 + (2*delta_uv*z)**2)\n",
    "    L_limit = uv_limit * L_new\n",
    "    \n",
    "    \n",
    "    # transfer function kernel of angular spectrum\n",
    "    H_AS = torch.sqrt(0j + 1 - torch.abs(f_x * lbd)**2 - torch.abs(f_y * lbd)**2)\n",
    "    H = torch.exp(1j * k * z * H_AS)\n",
    "    \n",
    "    U1 = torch.fft.fftshift(torch.fft.fft2(psi_p, dim=(-2, -1)))\n",
    "    U2 = U1 * H * W\n",
    "    psi_p = torch.fft.ifft2(torch.fft.ifftshift(U2), dim=(-2, -1))\n",
    "\n",
    "\n",
    "    psi_final = zero_unpad(psi_p, psi.shape)\n",
    "    \n",
    "    return psi_final, W\n"
   ]
  },
  {
   "cell_type": "code",
   "execution_count": 59,
   "metadata": {},
   "outputs": [],
   "source": [
    "L_box = 0.00001\n",
    "D_box = L_box / 4\n",
    "N_box = 512\n",
    "lbd = 0.0001\n",
    "y_box = torch.tensor(np.linspace(-L_box/2, L_box/2, N_box, endpoint=False), device=device).reshape(1,1, N_box)\n",
    "x_box = y_box.reshape(1, N_box, 1)\n",
    "\n",
    "U_box = ((x_box)**2 <= (D_box / 2)**2) * (y_box**2 <= (D_box / 2)**2)\n",
    "                                                                                \n",
    "M_box = 8;          \n",
    "z_box = 1                                                                  \n",
    "U_prop, W1= band_limited_angular_spectrum(U_box, z_box, lbd, L_box)"
   ]
  },
  {
   "cell_type": "code",
   "execution_count": 66,
   "metadata": {},
   "outputs": [
    {
     "name": "stdout",
     "output_type": "stream",
     "text": [
      "torch.Size([1024, 1024])\n"
     ]
    }
   ],
   "source": [
    "N = U_box.shape[-1]\n",
    "# don't change this pad_factor, only 2 is supported\n",
    "pad_factor = 2\n",
    "L_new = pad_factor * L_box\n",
    "N_new = pad_factor * N\n",
    "# pad array\n",
    "psi_p = zero_pad(U_box)\n",
    "print(psi_p.shape[1:])\n",
    "# helper varaibles\\\n",
    "k = 2 * torch.pi / lbd     # wavenumber \n",
    "df = 1 / L_new             # frequency spacing\n",
    "Lf = N_new * df            # total size in frequency space\n",
    "    \n",
    "# freq space coordinates for padded array\n",
    "f_y = torch.fft.fftfreq(N_new, 1 / Lf).reshape(1,1, N_new).to(device).type(torch.float32)\n",
    "f_x = f_y.reshape(1, N_new, 1) \n",
    "\n",
    "y = torch.fft.ifftshift(torch.tensor(np.linspace(-L_new/2, L_new/2, N_new, endpoint=False),\n",
    "                               device=device).reshape(1, 1, N_new), dim=(-1))\n",
    "x = y.reshape(1, N_new, 1)\n",
    "\n",
    "# bandlimit helper\n",
    "cx = lbd * f_x \n",
    "cy = lbd * f_y \n",
    "tx = L_new / 2 / z_box\n",
    "ty = L_new / 2 / z_box\n",
    "   \n",
    "# bandlimit filter for precompensation, not smoothened!\n",
    "# W = (cx**2 / (1 - cx**2 - cy**2) * (2*z_box / tx)**2  <= 1) * (cy**2 / (1 - cx**2 - cy**2) * (2*z_box / ty)**2  <= 1)\n",
    "\n",
    "\n",
    "delta_uv = 1 / (2*torch.tensor(psi_p.shape[1:])*L_new/N_new)\n",
    "uv_limit = 1 / lbd / torch.sqrt(1 + (2*delta_uv*z_box)**2)\n",
    "L_limit = uv_limit * L_new\n",
    "\n",
    "constraint1 = (f_x **2 / uv_limit[0]**2 + f_y**2 / lbd**-2) <=1\n",
    "\n",
    "\n",
    "# transfer function kernel of angular spectrum\n",
    "H_AS = torch.sqrt(0j + 1 - torch.abs(f_x * lbd)**2 - torch.abs(f_y * lbd)**2)\n",
    "H = torch.exp(1j * k * z_box * H_AS)\n",
    "    \n",
    "U1 = torch.fft.fftshift(torch.fft.fft2(psi_p, dim=(-2, -1)))\n",
    "U2 = U1 * H \n",
    "psi_p = torch.fft.ifft2(torch.fft.ifftshift(U2), dim=(-2, -1))\n",
    "\n",
    "\n",
    "psi_final = zero_unpad(psi_p, U_box.shape)\n"
   ]
  },
  {
   "cell_type": "code",
   "execution_count": 67,
   "metadata": {},
   "outputs": [
    {
     "data": {
      "text/plain": [
       "tensor([0.2000, 0.2000])"
      ]
     },
     "execution_count": 67,
     "metadata": {},
     "output_type": "execute_result"
    }
   ],
   "source": [
    "128e-6 / 512\n",
    "uv_limit"
   ]
  },
  {
   "cell_type": "code",
   "execution_count": 68,
   "metadata": {},
   "outputs": [
    {
     "data": {
      "text/plain": [
       "<matplotlib.image.AxesImage at 0x2ba78dc3f610>"
      ]
     },
     "execution_count": 68,
     "metadata": {},
     "output_type": "execute_result"
    },
    {
     "data": {
      "image/png": "[encoded data removed]",
      "text/plain": [
       "<Figure size 640x480 with 1 Axes>"
      ]
     },
     "metadata": {},
     "output_type": "display_data"
    }
   ],
   "source": [
    "plt.imshow(U_box[0,...].cpu().cpu().numpy())"
   ]
  },
  {
   "cell_type": "code",
   "execution_count": 69,
   "metadata": {},
   "outputs": [
    {
     "data": {
      "text/plain": [
       "<matplotlib.image.AxesImage at 0x2ba78d30d180>"
      ]
     },
     "execution_count": 69,
     "metadata": {},
     "output_type": "execute_result"
    },
    {
     "data": {
      "image/png": "[encoded data removed]",
      "text/plain": [
       "<Figure size 640x480 with 1 Axes>"
      ]
     },
     "metadata": {},
     "output_type": "display_data"
    }
   ],
   "source": [
    "plt.imshow(((torch.abs(0.0 + U_prop)**2)).cpu().numpy()[0,...])"
   ]
  },
  {
   "cell_type": "code",
   "execution_count": 70,
   "metadata": {},
   "outputs": [
    {
     "data": {
      "text/plain": [
       "<matplotlib.image.AxesImage at 0x2ba78d5f74c0>"
      ]
     },
     "execution_count": 70,
     "metadata": {},
     "output_type": "execute_result"
    },
    {
     "data": {
      "image/png": "[encoded data removed]",
      "text/plain": [
       "<Figure size 640x480 with 1 Axes>"
      ]
     },
     "metadata": {},
     "output_type": "display_data"
    }
   ],
   "source": [
    "plt.imshow(constraint1.cpu().numpy()[0,...])"
   ]
  },
  {
   "cell_type": "code",
   "execution_count": null,
   "metadata": {},
   "outputs": [],
   "source": []
  },
  {
   "cell_type": "code",
   "execution_count": null,
   "metadata": {},
   "outputs": [],
   "source": []
  },
  {
   "cell_type": "code",
   "execution_count": null,
   "metadata": {},
   "outputs": [],
   "source": []
  }
 ],
 "metadata": {
  "kernelspec": {
   "display_name": "Python (module anaconda)",
   "language": "python",
   "name": "python3"
  },
  "language_info": {
   "codemirror_mode": {
    "name": "ipython",
    "version": 3
   },
   "file_extension": ".py",
   "mimetype": "text/x-python",
   "name": "python",
   "nbconvert_exporter": "python",
   "pygments_lexer": "ipython3",
   "version": "3.10.8"
  }
 },
 "nbformat": 4,
 "nbformat_minor": 5
}
