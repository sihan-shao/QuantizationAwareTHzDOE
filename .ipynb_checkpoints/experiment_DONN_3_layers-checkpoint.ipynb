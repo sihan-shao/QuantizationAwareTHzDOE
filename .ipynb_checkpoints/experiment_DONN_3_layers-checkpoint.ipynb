{
 "cells": [
  {
   "cell_type": "code",
   "execution_count": 33,
   "id": "58422b6c-26eb-4455-9813-a6a87165f195",
   "metadata": {},
   "outputs": [],
   "source": [
    "import torch\n",
    "import torchvision\n",
    "from torchvision import transforms\n",
    "from torchvision.transforms import Resize, ToTensor\n",
    "import sys\n",
    "sys.path.append('../')\n",
    "from DataType.ElectricField import ElectricField\n",
    "from LightSource.Gaussian_beam import Guassian_beam\n",
    "from Props.ASM_Prop import ASM_prop\n",
    "from Props.RSC_Prop import RSC_prop\n",
    "from Components.Thin_Lens import Thin_LensElement\n",
    "from Components.Aperture import ApertureElement\n",
    "from Components.QuantizedDOE import SoftGumbelQuantizedDOELayerv3 as SoftGumbelQuantizedDOELayer\n",
    "from Components.QuantizedDOE import NaiveGumbelQuantizedDOELayer\n",
    "from Components.QuantizedDOE import PSQuantizedDOELayer\n",
    "from Components.QuantizedDOE import STEQuantizedDOELayer\n",
    "from Components.QuantizedDOE import FullPrecisionDOELayer\n",
    "from Components.QuantizedDOE import FixDOEElement\n",
    "from utils.Helper_Functions import normalize, DOE_xyz_cordinates_Generator\n",
    "from utils.units import *\n",
    "import numpy as np\n",
    "import scipy.io\n",
    "import time\n",
    "import torch.nn as nn"
   ]
  },
  {
   "cell_type": "markdown",
   "id": "99d7b549-208e-4d96-b5b4-82117a78bd97",
   "metadata": {},
   "source": [
    "# 1. Set simulation parameters"
   ]
  },
  {
   "cell_type": "code",
   "execution_count": 34,
   "id": "73e05ba2-8446-4998-8aa2-746dce7103fa",
   "metadata": {},
   "outputs": [],
   "source": [
    "# Hologram parameters (high-temp resin)\n",
    "epsilon = 2.66\n",
    "tand = 0.003\n",
    "    \n",
    "input_field_shape = [100, 100]\n",
    "input_dxy = 1 * mm\n",
    "doe_shape = [100, 100]\n",
    "doe_dxy = 1 * mm\n",
    "    \n",
    "    \n",
    "c0 = 2.998e8\n",
    "f2 = 300e9  # 0.3 THz\n",
    "\n",
    "wavelengths = c0 / f2\n",
    "#print(\"The number of wavelengths: \" +  str(wavelengths.shape[0]))\n",
    "\n",
    "# all parameters of DOE optimization\n",
    "doe_params = {\n",
    "    'doe_size': doe_shape,\n",
    "    'doe_dxy' : doe_dxy,\n",
    "    'doe_level': 4,\n",
    "    'look_up_table': None,\n",
    "    'num_unit': None,\n",
    "    'height_constraint_max': 1 * mm,\n",
    "    'tolerance': 30 * um,  \n",
    "    'material': [epsilon, tand]\n",
    "}\n",
    "\n",
    "optim_params = {\n",
    "    'c_s': 100,   # a number to boost the score (higher more robust to gumbel noise)\n",
    "    'tau_max': 2.5, # maximum value of tau\n",
    "    'tau_min': 1.5  # minimum value of tau\n",
    "}\n",
    "\n",
    "\n",
    "# layer num and distance between two layer\n",
    "num_layer = 3\n",
    "d_layer = 20 * mm\n",
    "\n",
    "# training parameter\n",
    "batch_size = 128"
   ]
  },
  {
   "cell_type": "markdown",
   "id": "a409772e-1933-4ce1-87c6-2bba357d1710",
   "metadata": {},
   "source": [
    "# 2. Define a 3-layers diffractive optical neural network (DONN)"
   ]
  },
  {
   "cell_type": "code",
   "execution_count": 35,
   "id": "50b80d1d-b489-461e-b693-b2cbe231eb97",
   "metadata": {},
   "outputs": [],
   "source": [
    "class DONN(nn.Module):\n",
    "    \"\"\" simulate a diffractive optical neural network with multiple DOEs\n",
    "        various quantized optimization method can be used here\n",
    "    \"\"\"\n",
    "    def __init__(self, \n",
    "                 input_dxy, \n",
    "                 input_field_shape,\n",
    "                 doe_params, \n",
    "                 optim_params,\n",
    "                 wavelengths, \n",
    "                 num_layer, \n",
    "                 d_layer,\n",
    "                 q_method):\n",
    "        super().__init__()\n",
    "        \n",
    "        self.input_dxy = input_dxy\n",
    "        self.input_field_shape = input_field_shape\n",
    "        self.doe_params = doe_params\n",
    "        self.optim_params = optim_params\n",
    "        \n",
    "        self.wavelengths = wavelengths\n",
    "\n",
    "        self.num_layer = num_layer\n",
    "        self.d_layer = d_layer\n",
    "\n",
    "        \n",
    "        self.asm_prop2layer = ASM_prop(z_distance=50 * mm, \n",
    "                                       bandlimit_type='exact', \n",
    "                                       padding_scale=2, \n",
    "                                       bandlimit_kernel=True)\n",
    "\n",
    "        self.aperture = ApertureElement(aperture_type = 'rect',\n",
    "                                        aperture_size = 0.08)\n",
    "\n",
    "        self.device = 'cuda:0' if torch.cuda.is_available() else 'cpu'\n",
    "        \n",
    "        # define the difffractive layers\n",
    "        if q_method == None:\n",
    "            self.does = nn.ModuleList([FullPrecisionDOELayer(self.doe_params) for _ in range(self.num_layer)])\n",
    "        elif q_method == 'sgs':\n",
    "            self.does = nn.ModuleList([SoftGumbelQuantizedDOELayer(self.doe_params, self.optim_params) for _ in range(self.num_layer)])\n",
    "        elif q_method == 'gs':\n",
    "            self.does = nn.ModuleList([NaiveGumbelQuantizedDOELayer(self.doe_params, self.optim_params) for _ in range(self.num_layer)])\n",
    "        elif q_method == 'psq':\n",
    "            optim_params = {'c_s': 300,'tau_max': 800,'tau_min': 1}\n",
    "            self.does = nn.ModuleList([PSQuantizedDOELayer(self.doe_params, optim_params) for _ in range(self.num_layer)])\n",
    "        elif q_method == 'ste':\n",
    "            self.does = n.ModuleList([STEQuantizedDOELayer(self.doe_params, self.optim_params) for _ in range(self.num_layer)])\n",
    "\n",
    "        self.asm_prop_layer = ASM_prop(z_distance=self.d_layer, \n",
    "                                       bandlimit_type='exact', \n",
    "                                       padding_scale=2, \n",
    "                                       bandlimit_kernel=True)\n",
    "    \n",
    "        \n",
    "        self.asm_prop2detector = ASM_prop(z_distance=50 * mm, \n",
    "                                          bandlimit_type='exact', \n",
    "                                          padding_scale=2, \n",
    "                                          bandlimit_kernel=True)\n",
    "        \n",
    "        \n",
    "\n",
    "    def encode_object(self, u):\n",
    "        # Create plane wave\n",
    "        amplitude_fields = torch.ones(1, 1, self.input_field_shape[0], self.input_field_shape[1], device=self.device) * u\n",
    "        phase_fields = torch.zeros_like(amplitude_fields, device=self.device)\n",
    "        # Combine amplitude and phase to form complex electric fields\n",
    "        electric_fields = amplitude_fields * torch.exp(1j * phase_fields) # add Batch dimension\n",
    "\n",
    "        field = ElectricField(\n",
    "                data=electric_fields, \n",
    "                wavelengths=self.wavelengths,\n",
    "                spacing=self.input_dxy\n",
    "        )\n",
    "        \n",
    "        field = self.asm_prop2layer(field)\n",
    "        field = self.aperture(field)\n",
    "        \n",
    "        return field\n",
    "    \n",
    "    def forward(self, u, iter_frac=None):\n",
    "\n",
    "        inputs = self.encode_object(u)\n",
    "\n",
    "        for i in range(self.num_layer-1):\n",
    "            field = self.does[i](inputs, iter_frac)\n",
    "            field = self.asm_prop_layer(field)\n",
    "            field = self.aperture(field)\n",
    "\n",
    "        field = self.does[-1](inputs, iter_frac)\n",
    "        outputs = self.asm_prop2detector(field)\n",
    "        \n",
    "        return outputs"
   ]
  },
  {
   "cell_type": "code",
   "execution_count": 36,
   "id": "335b40c7-4449-4716-b3b4-d6e9e3e43896",
   "metadata": {},
   "outputs": [],
   "source": [
    "donn = DONN(input_dxy=input_dxy, \n",
    "            input_field_shape=input_field_shape, \n",
    "            doe_params=doe_params, \n",
    "            optim_params=optim_params,\n",
    "            wavelengths=wavelengths, \n",
    "            num_layer=num_layer,\n",
    "            d_layer=d_layer, \n",
    "            q_method=None)"
   ]
  },
  {
   "cell_type": "code",
   "execution_count": 37,
   "id": "dd78f08d-8f21-4003-8ea5-c91457fc411f",
   "metadata": {},
   "outputs": [
    {
     "data": {
      "text/plain": [
       "DONN(\n",
       "  (asm_prop2layer): ASM_prop()\n",
       "  (aperture): ApertureElement()\n",
       "  (does): ModuleList(\n",
       "    (0-2): 3 x FullPrecisionDOELayer()\n",
       "  )\n",
       "  (asm_prop_layer): ASM_prop()\n",
       "  (asm_prop2detector): ASM_prop()\n",
       ")"
      ]
     },
     "execution_count": 37,
     "metadata": {},
     "output_type": "execute_result"
    }
   ],
   "source": [
    "donn"
   ]
  },
  {
   "cell_type": "markdown",
   "id": "d26c6e74-172e-4ed1-a116-28838cb84642",
   "metadata": {},
   "source": [
    "# 3. Define a Label Generator and Dataloader"
   ]
  },
  {
   "cell_type": "code",
   "execution_count": 41,
   "id": "921a3c47-1a55-40ef-8950-8842be6c2fa0",
   "metadata": {},
   "outputs": [],
   "source": [
    "trans =transforms.Compose([Resize(input_field_shape),ToTensor()])\n",
    "\n",
    "mnist_train = torchvision.datasets.MNIST(\n",
    "        root=\"./data\", train=True, transform=trans, download=True)\n",
    "mnist_test = torchvision.datasets.MNIST(\n",
    "        root=\"./data\", train=False, transform=trans, download=True) \n",
    "train_set, val_set, _ = torch.utils.data.random_split(mnist_train, [4096, 512, 60000-4096-512])\n",
    "    \n",
    "# train, validation and test\n",
    "train_loader = torch.utils.data.DataLoader(train_set, \n",
    "                                           batch_size=batch_size,\n",
    "                                           shuffle=True, num_workers=8,pin_memory=True)\n",
    "val_loader = torch.utils.data.DataLoader(val_set, \n",
    "                                         batch_size=batch_size,\n",
    "                                         shuffle=True, num_workers=4)"
   ]
  },
  {
   "cell_type": "code",
   "execution_count": null,
   "id": "c0f6e029-d23f-4e57-9677-a2171c5831b6",
   "metadata": {},
   "outputs": [],
   "source": []
  },
  {
   "cell_type": "code",
   "execution_count": null,
   "id": "e87ea0a3-c4f8-4c86-a6f6-4dd9f9d2146a",
   "metadata": {},
   "outputs": [],
   "source": []
  },
  {
   "cell_type": "code",
   "execution_count": null,
   "id": "72d3ee90-89ae-4166-92be-2689998c6499",
   "metadata": {},
   "outputs": [],
   "source": []
  },
  {
   "cell_type": "markdown",
   "id": "304dc7a3-0744-4d4d-af1c-c818dfaf0768",
   "metadata": {},
   "source": [
    "# 4. Define a train and validation pipelines"
   ]
  },
  {
   "cell_type": "code",
   "execution_count": null,
   "id": "d633504c-1c7c-477f-8dd5-2bb58e717bd4",
   "metadata": {},
   "outputs": [],
   "source": []
  },
  {
   "cell_type": "code",
   "execution_count": null,
   "id": "fbcb2714-8717-43ee-8d85-4beddb0cbad2",
   "metadata": {},
   "outputs": [],
   "source": []
  },
  {
   "cell_type": "code",
   "execution_count": null,
   "id": "48130a21-2d86-434a-8a32-c6bb74cb3191",
   "metadata": {},
   "outputs": [],
   "source": []
  },
  {
   "cell_type": "code",
   "execution_count": null,
   "id": "807e2416-7257-4a62-b684-9b3df58d3f7f",
   "metadata": {},
   "outputs": [],
   "source": []
  },
  {
   "cell_type": "markdown",
   "id": "76a32a85-8679-4302-b909-b69a33bf9c51",
   "metadata": {},
   "source": [
    "# 5. Training the model with different quantized methods"
   ]
  },
  {
   "cell_type": "code",
   "execution_count": null,
   "id": "4ee42063-8e35-4f97-86a4-dd8b630086c5",
   "metadata": {},
   "outputs": [],
   "source": []
  },
  {
   "cell_type": "code",
   "execution_count": null,
   "id": "63363a5d-1b16-4cdd-a002-29ddb50c7d40",
   "metadata": {},
   "outputs": [],
   "source": []
  },
  {
   "cell_type": "code",
   "execution_count": null,
   "id": "634965c3-9d74-4d1e-84da-9c13cd4abbb9",
   "metadata": {},
   "outputs": [],
   "source": []
  },
  {
   "cell_type": "code",
   "execution_count": null,
   "id": "bb9bcfe9-17e7-4aa4-9bd1-2d962ebe0bbf",
   "metadata": {},
   "outputs": [],
   "source": []
  },
  {
   "cell_type": "markdown",
   "id": "c134dfae-3629-4843-8f9e-9f6778937a62",
   "metadata": {},
   "source": []
  }
 ],
 "metadata": {
  "kernelspec": {
   "display_name": "Python 3 (ipykernel)",
   "language": "python",
   "name": "python3"
  },
  "language_info": {
   "codemirror_mode": {
    "name": "ipython",
    "version": 3
   },
   "file_extension": ".py",
   "mimetype": "text/x-python",
   "name": "python",
   "nbconvert_exporter": "python",
   "pygments_lexer": "ipython3",
   "version": "3.9.18"
  }
 },
 "nbformat": 4,
 "nbformat_minor": 5
}
